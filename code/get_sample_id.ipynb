{
 "cells": [
  {
   "cell_type": "code",
   "execution_count": 1,
   "metadata": {},
   "outputs": [],
   "source": [
    "import pandas as pd\n",
    "import json\n",
    "import os \n",
    "from utils.data_info import *\n",
    "from utils.subject_path import *\n",
    "from utils.utils import *\n",
    "import random\n",
    "import re\n",
    "from pathlib import Path"
   ]
  },
  {
   "cell_type": "code",
   "execution_count": 2,
   "metadata": {},
   "outputs": [],
   "source": [
    "\n",
    "id_excel = \"/mnt/cfs/zengxiaoli/lesson_plan_generator_tool/data/excel/智慧教研目录排序版0423_加id_1222.xlsx\"\n",
    "dir_ex = \"/mnt/cfs/zengxiaoli/english_lesson_plan_generator/result/infor_module_1030_all\"\n",
    "id_df = pd.read_excel(id_excel) \n",
    "id_df.fillna('', inplace=True)\n",
    "all_subject_data = {}\n",
    "for subject, subject_dir in subject_textbook_path.items():\n",
    "    all_subject_data[subject] = []\n",
    "    for root, dirs, files in os.walk(subject_dir):\n",
    "        for file in files:\n",
    "            if '人教PEP版（2024' in file: continue\n",
    "            if '2024' in file:\n",
    "                file_path = os.path.join(root, file)\n",
    "                with open(file_path, 'r') as f:\n",
    "                    data = json.load(f)\n",
    "                info_temp = file.split('_')\n",
    "                info_temp[-1] = info_temp[-1].split('.')[0]\n",
    "                all_topics = get_textbook_topic(data)\n",
    "                lesson_info = '_'.join(info_temp)\n",
    "                for topic_item in all_topics:\n",
    "                    id_temp = get_id(id_df, lesson_info+'_'+topic_item)\n",
    "                    if id_temp == None:continue\n",
    "                    mode = get_mode(subject, lesson_info+'_'+topic_item)\n",
    "                    all_subject_data[subject].append({'id':id_temp, 'topic':topic_item,\"lesson_info\":lesson_info+'_'+topic_item, 'mode':mode})\n",
    "                "
   ]
  },
  {
   "cell_type": "code",
   "execution_count": null,
   "metadata": {},
   "outputs": [],
   "source": []
  },
  {
   "cell_type": "code",
   "execution_count": 3,
   "metadata": {},
   "outputs": [],
   "source": [
    "ids = {}\n",
    "random.seed(42)\n",
    "\n",
    "for subject_ch in all_subject_data:\n",
    "    ids[subject_ch] = random.sample(all_subject_data[subject_ch], 100)"
   ]
  },
  {
   "cell_type": "code",
   "execution_count": 6,
   "metadata": {},
   "outputs": [],
   "source": [
    "# ids = {}\n",
    "random.seed(42)\n",
    "\n",
    "for subject_ch in all_subject_data:\n",
    "    ids[subject_ch] = ids[subject_ch][:20]"
   ]
  },
  {
   "cell_type": "code",
   "execution_count": 9,
   "metadata": {},
   "outputs": [],
   "source": [
    "random.seed(42)\n",
    "\n",
    "with open(\"../data/sample_ids.json\", 'r') as f:\n",
    "    ids = json.load(f)\n",
    "for subject_ch in ids:\n",
    "    ids[subject_ch] = random.sample(ids[subject_ch], 50)\n",
    "with open(\"../data/sample_ids_1222_eval.json\", 'w', encoding='utf-8') as f:\n",
    "    json.dump(ids, f, ensure_ascii=False, indent=4)"
   ]
  },
  {
   "cell_type": "code",
   "execution_count": 7,
   "metadata": {},
   "outputs": [],
   "source": [
    "import json\n",
    "huaxue_id = [\n",
    "'教研目录id_60391',\n",
    "'教研目录id_60451',\n",
    "'教研目录id_60418',\n",
    "'教研目录id_60378',\n",
    "'教研目录id_60398',\n",
    "'教研目录id_60376',\n",
    "'教研目录id_60463',\n",
    "'教研目录id_60436',\n",
    "'教研目录id_60468',\n",
    "'教研目录id_60422',\n",
    "'教研目录id_60414',\n",
    "'教研目录id_60392',\n",
    "'教研目录id_60473',\n",
    "'教研目录id_60368',\n",
    "'教研目录id_60361',\n",
    "'教研目录id_60379',\n",
    "'教研目录id_60448',\n",
    "'教研目录id_60460',\n",
    "'教研目录id_60417',\n",
    "'教研目录id_60416',]\n",
    "with open(\"../data/sample_ids_1224_eval.json\", 'r') as f:\n",
    "    ids = json.load(f)\n",
    "ids_temp = {item:{} for item in huaxue_id}\n",
    "save_ids = ids\n",
    "subject = '科学'\n",
    "for item in ids[subject]:\n",
    "    ids_temp[item['id']] = item\n",
    "save_ids[subject] = [item for _,item in ids_temp.items()]\n",
    "c"
   ]
  },
  {
   "cell_type": "markdown",
   "metadata": {},
   "source": []
  },
  {
   "cell_type": "code",
   "execution_count": 8,
   "metadata": {},
   "outputs": [],
   "source": [
    "import pandas as pd\n",
    "import json\n",
    "import os \n",
    "from utils.data_info import *\n",
    "from utils.subject_path import *\n",
    "from utils.utils import *\n",
    "import random\n",
    "import re\n",
    "from pathlib import Path\n",
    "from gen_information import *\n",
    "def get_teach_mode(teach_stage):\n",
    "    stage_len = len(teach_stage)\n",
    "    for tm_key,tm_value in teaching_models.items():\n",
    "        tea_line = tm_value[\"教学环节\"]\n",
    "        num = 0\n",
    "        for tl in tea_line:\n",
    "            for ts in teach_stage:\n",
    "                if tl in ts:\n",
    "                    num += 1\n",
    "                    break\n",
    "        if num == stage_len:\n",
    "            return tm_key\n",
    "    return \"\"\n",
    "root_dir = '/mnt/cfs/zhengying/lesson_plan_generator_zy/eval_data/GLM-4'\n",
    "subject_list = [ '英语', '化学', '科学']\n",
    "subject_dict = {}\n",
    "ids_list = []\n",
    "for root, dirs, files in os.walk(root_dir):\n",
    "    root_subject = root.split('/')[-1]\n",
    "    if root_subject not in subject_list: continue\n",
    "    subject_dict[root_subject] = []\n",
    "    for file in files:\n",
    "        if file.endswith('.json'):\n",
    "            with open(os.path.join(root, file), 'r') as f:\n",
    "                data = json.load(f)\n",
    "            if data['id'] in ids_list: continue\n",
    "            ids_list.append(data['id'])\n",
    "            topic_item = data['lesson_info'].split(\"@@@@\")\n",
    "            mode = get_teach_mode(data['link'])\n",
    "            temp = {'id':data['id'], 'topic':topic_item,\"lesson_info\":data['lesson_info'], 'mode':mode}\n",
    "            subject_dict[root_subject].append(temp)\n",
    "    \n",
    "\n",
    "with open(\"../data/sample_ids_0117_eval.json\", 'w', encoding='utf-8') as f:\n",
    "    json.dump(subject_dict, f, ensure_ascii=False, indent=4)\n",
    "            \n",
    "            "
   ]
  },
  {
   "cell_type": "code",
   "execution_count": 11,
   "metadata": {},
   "outputs": [
    {
     "data": {
      "text/plain": [
       "18"
      ]
     },
     "execution_count": 11,
     "metadata": {},
     "output_type": "execute_result"
    }
   ],
   "source": [
    "len(subject_dict['科学'])"
   ]
  },
  {
   "cell_type": "code",
   "execution_count": null,
   "metadata": {},
   "outputs": [],
   "source": []
  }
 ],
 "metadata": {
  "kernelspec": {
   "display_name": "Python 3",
   "language": "python",
   "name": "python3"
  },
  "language_info": {
   "codemirror_mode": {
    "name": "ipython",
    "version": 3
   },
   "file_extension": ".py",
   "mimetype": "text/x-python",
   "name": "python",
   "nbconvert_exporter": "python",
   "pygments_lexer": "ipython3",
   "version": "3.8.19"
  }
 },
 "nbformat": 4,
 "nbformat_minor": 2
}
